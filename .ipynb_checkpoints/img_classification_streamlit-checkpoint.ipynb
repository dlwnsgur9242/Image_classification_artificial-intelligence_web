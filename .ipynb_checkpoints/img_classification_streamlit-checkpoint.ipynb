{
 "cells": [
  {
   "cell_type": "code",
   "execution_count": 2,
   "id": "f8d936a1",
   "metadata": {},
   "outputs": [],
   "source": [
    "from pyngrok import ngrok\n",
    "import os\n",
    "\n",
    "ngrok.set_auth_token(os.environ[\"NGROK_API_TOKEN\"])"
   ]
  },
  {
   "cell_type": "code",
   "execution_count": 3,
   "id": "f14f59a1",
   "metadata": {},
   "outputs": [
    {
     "name": "stdout",
     "output_type": "stream",
     "text": [
      "Overwriting app.py\n"
     ]
    }
   ],
   "source": [
    "%%writefile app.py\n",
    "import streamlit as st\n",
    "import tensorflow as tf\n",
    "from PIL import Image, ImageOps\n",
    "import numpy as np\n",
    "from tensorflow.keras.applications.imagenet_utils import decode_predictions\n",
    "\n",
    "resnet50_pre = tf.keras.applications.resnet.ResNet50(weights='imagenet', input_shape=(224, 224,3))\n",
    "\n",
    "st.title('이미지 분류 인공지능 웹페이지')\n",
    "file = st.file_uploader('이미지를 올려주세요', type=['jpg', 'png'])\n",
    "\n",
    "if file is None:\n",
    "    st.text('이미지를 먼저 올려주세요.')\n",
    "else:\n",
    "    image = Image.open(file)\n",
    "    st.image(image, use_column_width=True)\n",
    "    img_resized = ImageOps.fit(image, (224,224), Image.ANTIALIAS)\n",
    "    img_resized = img_resized.convert(\"RGB\")\n",
    "    img_resized = np.asarray(img_resized)\n",
    "    \n",
    "    pred = resnet50_pre.predict(img_resized.reshape([1, 224,224, 3]))\n",
    "    decoded_pred = decode_predictions(pred)\n",
    "    results = ''\n",
    "    for i, instance in enumerate(decoded_pred[0]):\n",
    "        results += '{}위: {} ({:.2f}%)'.format(i+1, instance[1], instance[2] * 100)\n",
    "    st.success(results)"
   ]
  },
  {
   "cell_type": "code",
   "execution_count": null,
   "id": "3c11fab3",
   "metadata": {},
   "outputs": [],
   "source": []
  },
  {
   "cell_type": "code",
   "execution_count": null,
   "id": "f2182997",
   "metadata": {},
   "outputs": [],
   "source": []
  },
  {
   "cell_type": "code",
   "execution_count": 4,
   "id": "d1dfa4c1",
   "metadata": {},
   "outputs": [
    {
     "name": "stdout",
     "output_type": "stream",
     "text": [
      "^C\n"
     ]
    }
   ],
   "source": [
    "!streamlit run app.py --server.port 83"
   ]
  },
  {
   "cell_type": "code",
   "execution_count": 5,
   "id": "1e38628d",
   "metadata": {},
   "outputs": [
    {
     "data": {
      "text/plain": [
       "<NgrokTunnel: \"https://9278-175-213-221-10.ngrok-free.app\" -> \"http://localhost:83\">"
      ]
     },
     "execution_count": 5,
     "metadata": {},
     "output_type": "execute_result"
    }
   ],
   "source": [
    "url = ngrok.connect(83)\n",
    "url"
   ]
  },
  {
   "cell_type": "code",
   "execution_count": null,
   "id": "332b92d0",
   "metadata": {},
   "outputs": [],
   "source": [
    "#ngrok.kill( )"
   ]
  }
 ],
 "metadata": {
  "kernelspec": {
   "display_name": "Python 3 (ipykernel)",
   "language": "python",
   "name": "python3"
  },
  "language_info": {
   "codemirror_mode": {
    "name": "ipython",
    "version": 3
   },
   "file_extension": ".py",
   "mimetype": "text/x-python",
   "name": "python",
   "nbconvert_exporter": "python",
   "pygments_lexer": "ipython3",
   "version": "3.11.5"
  }
 },
 "nbformat": 4,
 "nbformat_minor": 5
}
